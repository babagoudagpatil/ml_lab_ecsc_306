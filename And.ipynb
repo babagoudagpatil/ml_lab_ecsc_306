{
 "cells": [
  {
   "cell_type": "code",
   "execution_count": 199,
   "metadata": {
    "collapsed": true
   },
   "outputs": [],
   "source": [
    "import tensorflow as tf\n",
    "x_ = tf.placeholder(tf.float32, shape=[4,2], name=\"x-input\")\n",
    "y_ = tf.placeholder(tf.float32, shape=[4,1], name=\"y-input\")"
   ]
  },
  {
   "cell_type": "code",
   "execution_count": 200,
   "metadata": {
    "collapsed": true
   },
   "outputs": [],
   "source": [
    "Theta1 = tf.Variable(tf.random_uniform([2,1], 0, 1), name=\"Theta1\")\n"
   ]
  },
  {
   "cell_type": "code",
   "execution_count": 201,
   "metadata": {
    "collapsed": true
   },
   "outputs": [],
   "source": [
    "Bias1 = tf.Variable(tf.zeros([2]), name=\"Bias1\")"
   ]
  },
  {
   "cell_type": "code",
   "execution_count": 202,
   "metadata": {},
   "outputs": [],
   "source": [
    "Hypothesis = tf.sigmoid(tf.matmul(x_, Theta1) + Bias1)"
   ]
  },
  {
   "cell_type": "code",
   "execution_count": 203,
   "metadata": {
    "collapsed": true
   },
   "outputs": [],
   "source": [
    "cost = tf.reduce_mean(( (y_ * tf.log(Hypothesis)) + \n",
    "        ((1 - y_) * tf.log(1.0 - Hypothesis)) ) * -1)"
   ]
  },
  {
   "cell_type": "code",
   "execution_count": 204,
   "metadata": {
    "collapsed": true
   },
   "outputs": [],
   "source": [
    "train_step = tf.train.GradientDescentOptimizer(0.01).minimize(cost)"
   ]
  },
  {
   "cell_type": "code",
   "execution_count": 205,
   "metadata": {},
   "outputs": [],
   "source": [
    "OR_X = [[0,0],[0,1],[1,0],[1,1]]\n",
    "OR_Y = [[0],[0],[0],[1]]\n",
    "\n",
    "init = tf.global_variables_initializer()\n",
    "sess = tf.Session()\n",
    "sess.run(init)"
   ]
  },
  {
   "cell_type": "code",
   "execution_count": 206,
   "metadata": {},
   "outputs": [
    {
     "name": "stdout",
     "output_type": "stream",
     "text": [
      "Epoch  0\n",
      "Theta1  [[ 0.75749457]\n",
      " [ 0.42310563]]\n",
      "Bias1  [-0.00193865 -0.00193865]\n",
      "Hypothesis  [[ 0.49951535  0.49951535]\n",
      " [ 0.60376245  0.60376245]\n",
      " [ 0.68038809  0.68038809]\n",
      " [ 0.76470703  0.76470703]]\n",
      "--------------------------------------------------------------------------\n",
      "Epoch  1000\n",
      "Theta1  [[ 0.61455816]\n",
      " [ 0.43213922]]\n",
      "Bias1  [-1.04759777 -1.04759777]\n",
      "Hypothesis  [[ 0.25968668  0.25968668]\n",
      " [ 0.35081506  0.35081506]\n",
      " [ 0.39340073  0.39340073]\n",
      " [ 0.4997749   0.4997749 ]]\n",
      "--------------------------------------------------------------------------\n",
      "Epoch  2000\n",
      "Theta1  [[ 0.91654885]\n",
      " [ 0.81302088]]\n",
      "Bias1  [-1.57536018 -1.57536018]\n",
      "Hypothesis  [[ 0.1714536   0.1714536 ]\n",
      " [ 0.3181386   0.3181386 ]\n",
      " [ 0.34100667  0.34100667]\n",
      " [ 0.53847617  0.53847617]]\n",
      "--------------------------------------------------------------------------\n",
      "Epoch  3000\n",
      "Theta1  [[ 1.1991533 ]\n",
      " [ 1.13885605]]\n",
      "Bias1  [-1.9978981 -1.9978981]\n",
      "Hypothesis  [[ 0.11942379  0.11942379]\n",
      " [ 0.29753953  0.29753953]\n",
      " [ 0.31029409  0.31029409]\n",
      " [ 0.58421755  0.58421755]]\n",
      "--------------------------------------------------------------------------\n",
      "Epoch  4000\n",
      "Theta1  [[ 1.44625401]\n",
      " [ 1.41032672]]\n",
      "Bias1  [-2.36138487 -2.36138487]\n",
      "Hypothesis  [[ 0.08616509  0.08616509]\n",
      " [ 0.27867207  0.27867207]\n",
      " [ 0.28595105  0.28595105]\n",
      " [ 0.62132967  0.62132967]]\n",
      "--------------------------------------------------------------------------\n",
      "Epoch  5000\n",
      "Theta1  [[ 1.6651566 ]\n",
      " [ 1.64327419]]\n",
      "Bias1  [-2.68227863 -2.68227863]\n",
      "Hypothesis  [[ 0.06402719  0.06402719]\n",
      " [ 0.26134214  0.26134214]\n",
      " [ 0.26558837  0.26558837]\n",
      " [ 0.65161645  0.65161645]]\n",
      "--------------------------------------------------------------------------\n",
      "Epoch  6000\n",
      "Theta1  [[ 1.86194944]\n",
      " [ 1.84834075]]\n",
      "Bias1  [-2.97051811 -2.97051811]\n",
      "Hypothesis  [[ 0.04877568  0.04877568]\n",
      " [ 0.24560764  0.24560764]\n",
      " [ 0.24813783  0.24813783]\n",
      " [ 0.67694598  0.67694598]]\n",
      "--------------------------------------------------------------------------\n",
      "Epoch  7000\n",
      "Theta1  [[ 2.04097319]\n",
      " [ 2.03234172]]\n",
      "Bias1  [-3.23282576 -3.23282576]\n",
      "Hypothesis  [[ 0.03794895  0.03794895]\n",
      " [ 0.23138912  0.23138912]\n",
      " [ 0.23292775  0.23292775]\n",
      " [ 0.69856817  0.69856817]]\n",
      "--------------------------------------------------------------------------\n",
      "Epoch  8000\n",
      "Theta1  [[ 2.20538425]\n",
      " [ 2.19980764]]\n",
      "Bias1  [-3.47396469 -3.47396469]\n",
      "Hypothesis  [[ 0.03006216  0.03006216]\n",
      " [ 0.21854647  0.21854647]\n",
      " [ 0.21950035  0.21950035]\n",
      " [ 0.7173242   0.7173242 ]]\n",
      "--------------------------------------------------------------------------\n",
      "Epoch  9000\n",
      "Theta1  [[ 2.35754538]\n",
      " [ 2.35387874]]\n",
      "Bias1  [-3.69742846 -3.69742846]\n",
      "Hypothesis  [[ 0.02418764  0.02418764]\n",
      " [ 0.2069269   0.2069269 ]\n",
      " [ 0.20752929  0.20752929]\n",
      " [ 0.73380131  0.73380131]]\n",
      "--------------------------------------------------------------------------\n"
     ]
    }
   ],
   "source": [
    "for i in range(10000):\n",
    "        sess.run(train_step, feed_dict={x_: AND_X, y_: AND_Y})\n",
    "        \n",
    "        if i % 1000 == 0:\n",
    "            print('Epoch ', i)\n",
    "            print('Theta1 ', sess.run(Theta1))\n",
    "            print('Bias1 ', sess.run(Bias1))\n",
    "            print('Hypothesis ', sess.run(Hypothesis, feed_dict={x_: XOR_X, y_: XOR_Y}))\n",
    "            print('--------------------------------------------------------------------------')"
   ]
  },
  {
   "cell_type": "code",
   "execution_count": 207,
   "metadata": {},
   "outputs": [],
   "source": [
    "writer = tf.summary.FileWriter(\"/tmp/tboard/and\", sess.graph)"
   ]
  },
  {
   "cell_type": "code",
   "execution_count": null,
   "metadata": {
    "collapsed": true
   },
   "outputs": [],
   "source": []
  },
  {
   "cell_type": "code",
   "execution_count": null,
   "metadata": {
    "collapsed": true
   },
   "outputs": [],
   "source": []
  },
  {
   "cell_type": "code",
   "execution_count": null,
   "metadata": {
    "collapsed": true
   },
   "outputs": [],
   "source": []
  }
 ],
 "metadata": {
  "kernelspec": {
   "display_name": "Python 3",
   "language": "python",
   "name": "python3"
  },
  "language_info": {
   "codemirror_mode": {
    "name": "ipython",
    "version": 3
   },
   "file_extension": ".py",
   "mimetype": "text/x-python",
   "name": "python",
   "nbconvert_exporter": "python",
   "pygments_lexer": "ipython3",
   "version": "3.6.1"
  }
 },
 "nbformat": 4,
 "nbformat_minor": 2
}
