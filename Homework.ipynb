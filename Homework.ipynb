{
 "cells": [
  {
   "cell_type": "code",
   "execution_count": 29,
   "metadata": {},
   "outputs": [
    {
     "name": "stdout",
     "output_type": "stream",
     "text": [
      "25\n"
     ]
    }
   ],
   "source": [
    "##(a-b)^2\n",
    "import tensorflow as tf\n",
    "x=10\n",
    "y=15\n",
    "\n",
    "\n",
    "with tf.name_scope(\"assingnment1\"):\n",
    "    with tf.name_scope(\"scope_1\"):\n",
    "        mul1 = tf.multiply(x, x)\n",
    "        mul2 = tf.multiply(y, y)\n",
    "    with tf.name_scope(\"scope_2\"):\n",
    "        z = tf.multiply(2, x)\n",
    "        h = tf.multiply(z, y)\n",
    "\n",
    "with tf.name_scope(\"scope_3\"):\n",
    "    d = tf.add(mul1, mul2)\n",
    "    s = tf.subtract(d, h)\n",
    "\n",
    "\n",
    "\n",
    "with tf.Session() as sess:\n",
    "    writer = tf.summary.FileWriter(\"/tmp/tboard/linear\", sess.graph)\n",
    "    print(sess.run(s))\n",
    "    writer.close()"
   ]
  },
  {
   "cell_type": "code",
   "execution_count": 24,
   "metadata": {},
   "outputs": [
    {
     "name": "stdout",
     "output_type": "stream",
     "text": [
      "133\n"
     ]
    }
   ],
   "source": [
    "\n",
    "\n",
    "        "
   ]
  },
  {
   "cell_type": "code",
   "execution_count": null,
   "metadata": {
    "collapsed": true
   },
   "outputs": [],
   "source": []
  }
 ],
 "metadata": {
  "kernelspec": {
   "display_name": "Python 3",
   "language": "python",
   "name": "python3"
  },
  "language_info": {
   "codemirror_mode": {
    "name": "ipython",
    "version": 3
   },
   "file_extension": ".py",
   "mimetype": "text/x-python",
   "name": "python",
   "nbconvert_exporter": "python",
   "pygments_lexer": "ipython3",
   "version": "3.6.1"
  }
 },
 "nbformat": 4,
 "nbformat_minor": 2
}
