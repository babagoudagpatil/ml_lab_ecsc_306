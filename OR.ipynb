{
 "cells": [
  {
   "cell_type": "code",
   "execution_count": 224,
   "metadata": {
    "collapsed": true
   },
   "outputs": [],
   "source": [
    "import tensorflow as tf\n",
    "x_ = tf.placeholder(tf.float32, shape=[4,2], name=\"x-input\")\n",
    "y_ = tf.placeholder(tf.float32, shape=[4,1], name=\"y-input\")"
   ]
  },
  {
   "cell_type": "code",
   "execution_count": 225,
   "metadata": {
    "collapsed": true
   },
   "outputs": [],
   "source": [
    "Theta1 = tf.Variable(tf.random_uniform([2,1], 0, 1), name=\"Theta1\")\n"
   ]
  },
  {
   "cell_type": "code",
   "execution_count": 226,
   "metadata": {
    "collapsed": true
   },
   "outputs": [],
   "source": [
    "Bias1 = tf.Variable(tf.zeros([2]), name=\"Bias1\")"
   ]
  },
  {
   "cell_type": "code",
   "execution_count": 227,
   "metadata": {},
   "outputs": [],
   "source": [
    "Hypothesis = tf.sigmoid(tf.matmul(x_, Theta1) + Bias1)"
   ]
  },
  {
   "cell_type": "code",
   "execution_count": 228,
   "metadata": {
    "collapsed": true
   },
   "outputs": [],
   "source": [
    "cost = tf.reduce_mean(( (y_ * tf.log(Hypothesis)) + \n",
    "        ((1 - y_) * tf.log(1.0 - Hypothesis)) ) * -1)"
   ]
  },
  {
   "cell_type": "code",
   "execution_count": 229,
   "metadata": {
    "collapsed": true
   },
   "outputs": [],
   "source": [
    "train_step = tf.train.GradientDescentOptimizer(0.01).minimize(cost)"
   ]
  },
  {
   "cell_type": "code",
   "execution_count": 230,
   "metadata": {},
   "outputs": [],
   "source": [
    "OR_X = [[0,0],[0,1],[1,0],[1,1]]\n",
    "OR_Y = [[0],[1],[1],[1]]\n",
    "\n",
    "init = tf.global_variables_initializer()\n",
    "sess = tf.Session()\n",
    "sess.run(init)"
   ]
  },
  {
   "cell_type": "code",
   "execution_count": 231,
   "metadata": {},
   "outputs": [
    {
     "name": "stdout",
     "output_type": "stream",
     "text": [
      "Epoch  0\n",
      "Theta1  [[ 0.5541293 ]\n",
      " [ 0.43171376]]\n",
      "Bias1  [ 0.00066471  0.00066471]\n",
      "Hypothesis  [[ 0.50016618  0.50016618]\n",
      " [ 0.6064415   0.6064415 ]\n",
      " [ 0.63524711  0.63524711]\n",
      " [ 0.72839755  0.72839755]]\n",
      "--------------------------------------------------------------------------\n",
      "Epoch  1000\n",
      "Theta1  [[ 1.43743169]\n",
      " [ 1.36003256]]\n",
      "Bias1  [ 0.10348275  0.10348275]\n",
      "Hypothesis  [[ 0.52584761  0.52584761]\n",
      " [ 0.81206971  0.81206971]\n",
      " [ 0.82359767  0.82359767]\n",
      " [ 0.94789326  0.94789326]]\n",
      "--------------------------------------------------------------------------\n",
      "Epoch  2000\n",
      "Theta1  [[ 1.91212523]\n",
      " [ 1.85667861]]\n",
      "Bias1  [-0.08500416 -0.08500416]\n",
      "Hypothesis  [[ 0.4787617   0.4787617 ]\n",
      " [ 0.85466582  0.85466582]\n",
      " [ 0.86141843  0.86141843]\n",
      " [ 0.9754886   0.9754886 ]]\n",
      "--------------------------------------------------------------------------\n",
      "Epoch  3000\n",
      "Theta1  [[ 2.28165364]\n",
      " [ 2.23999214]]\n",
      "Bias1  [-0.29745352 -0.29745352]\n",
      "Hypothesis  [[ 0.42618012  0.42618012]\n",
      " [ 0.87463075  0.87463075]\n",
      " [ 0.87912822  0.87912822]\n",
      " [ 0.98557407  0.98557407]]\n",
      "--------------------------------------------------------------------------\n",
      "Epoch  4000\n",
      "Theta1  [[ 2.59713912]\n",
      " [ 2.56492758]]\n",
      "Bias1  [-0.4942506 -0.4942506]\n",
      "Hypothesis  [[ 0.37889275  0.37889275]\n",
      " [ 0.88802028  0.88802028]\n",
      " [ 0.89118361  0.89118361]\n",
      " [ 0.99069464  0.99069464]]\n",
      "--------------------------------------------------------------------------\n",
      "Epoch  5000\n",
      "Theta1  [[ 2.87599254]\n",
      " [ 2.85053563]]\n",
      "Bias1  [-0.66939467 -0.66939467]\n",
      "Hypothesis  [[ 0.3386324   0.3386324 ]\n",
      " [ 0.89854312  0.89854312]\n",
      " [ 0.9008404   0.9008404 ]\n",
      " [ 0.99367648  0.99367648]]\n",
      "--------------------------------------------------------------------------\n",
      "Epoch  6000\n",
      "Theta1  [[ 3.12668324]\n",
      " [ 3.1061883 ]]\n",
      "Bias1  [-0.82444 -0.82444]\n",
      "Hypothesis  [[ 0.304822    0.304822  ]\n",
      " [ 0.90735418  0.90735418]\n",
      " [ 0.90906262  0.90906262]\n",
      " [ 0.99554127  0.99554127]]\n",
      "--------------------------------------------------------------------------\n",
      "Epoch  7000\n",
      "Theta1  [[ 3.35441303]\n",
      " [ 3.33764434]]\n",
      "Bias1  [-0.96238351 -0.96238351]\n",
      "Hypothesis  [[ 0.27640122  0.27640122]\n",
      " [ 0.91492122  0.91492122]\n",
      " [ 0.91621751  0.91621751]\n",
      " [ 0.99676239  0.99676239]]\n",
      "--------------------------------------------------------------------------\n",
      "Epoch  8000\n",
      "Theta1  [[ 3.56285691]\n",
      " [ 3.5489409 ]]\n",
      "Bias1  [-1.08609068 -1.08609068]\n",
      "Hypothesis  [[ 0.25235516  0.25235516]\n",
      " [ 0.92149603  0.92149603]\n",
      " [ 0.92249686  0.92249686]\n",
      " [ 0.99758995  0.99758995]]\n",
      "--------------------------------------------------------------------------\n",
      "Epoch  9000\n",
      "Theta1  [[ 3.75482035]\n",
      " [ 3.74312282]]\n",
      "Bias1  [-1.19795322 -1.19795322]\n",
      "Hypothesis  [[ 0.23183954  0.23183954]\n",
      " [ 0.92724836  0.92724836]\n",
      " [ 0.92803347  0.92803347]\n",
      " [ 0.99816704  0.99816704]]\n",
      "--------------------------------------------------------------------------\n"
     ]
    }
   ],
   "source": [
    "for i in range(10000):\n",
    "        sess.run(train_step, feed_dict={x_: OR_X, y_: OR_Y})\n",
    "        \n",
    "        if i % 1000 == 0:\n",
    "            print('Epoch ', i)\n",
    "            print('Theta1 ', sess.run(Theta1))\n",
    "            print('Bias1 ', sess.run(Bias1))\n",
    "            print('Hypothesis ', sess.run(Hypothesis, feed_dict={x_: OR_X, y_: OR_Y}))\n",
    "            print('--------------------------------------------------------------------------')"
   ]
  },
  {
   "cell_type": "code",
   "execution_count": 232,
   "metadata": {},
   "outputs": [],
   "source": [
    "writer = tf.summary.FileWriter(\"/tmp/tboard/and\", sess.graph)"
   ]
  },
  {
   "cell_type": "code",
   "execution_count": null,
   "metadata": {
    "collapsed": true
   },
   "outputs": [],
   "source": []
  },
  {
   "cell_type": "code",
   "execution_count": null,
   "metadata": {
    "collapsed": true
   },
   "outputs": [],
   "source": []
  },
  {
   "cell_type": "code",
   "execution_count": null,
   "metadata": {
    "collapsed": true
   },
   "outputs": [],
   "source": []
  }
 ],
 "metadata": {
  "kernelspec": {
   "display_name": "Python 3",
   "language": "python",
   "name": "python3"
  },
  "language_info": {
   "codemirror_mode": {
    "name": "ipython",
    "version": 3
   },
   "file_extension": ".py",
   "mimetype": "text/x-python",
   "name": "python",
   "nbconvert_exporter": "python",
   "pygments_lexer": "ipython3",
   "version": "3.6.1"
  }
 },
 "nbformat": 4,
 "nbformat_minor": 2
}
