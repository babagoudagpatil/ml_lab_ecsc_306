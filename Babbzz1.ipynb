{
 "cells": [
  {
   "cell_type": "code",
   "execution_count": 21,
   "metadata": {
    "scrolled": true
   },
   "outputs": [
    {
     "name": "stdout",
     "output_type": "stream",
     "text": [
      "26.38\n",
      "11.5\n",
      "[[-1.38000107  0.61999893 -0.18000031  0.93999863]]\n",
      "3.2048\n"
     ]
    }
   ],
   "source": [
    "import tensorflow as tf\n",
    "\n",
    "with tf.name_scope(\"var\"):\n",
    "    with tf.name_scope(\"mean_x\"):\n",
    "        a=tf.constant([25.0,27.0,26.2,27.32],shape=[1,4],name='a')\n",
    "        b=tf.constant([7.0,9.0,10.0,20.0],shape=[1,4],name='b')\n",
    "        x=tf.reduce_mean(a)\n",
    "        sess=tf.Session()\n",
    "    print(sess.run(x))\n",
    "    with tf.name_scope(\"mean_y\"):\n",
    "        y=tf.reduce_mean(b)\n",
    "        sess=tf.Session()\n",
    "        print(sess.run(y))\n",
    "\n",
    "\n",
    "\n",
    "\n",
    "\n",
    "\n",
    "\n",
    "d=tf.subtract(a,x)\n",
    "sess=tf.Session()\n",
    "print(sess.run(d ))\n",
    "\n",
    "e=tf.square(d)\n",
    "f=tf.reduce_sum(e)\n",
    "sess=tf.Session()\n",
    "print(sess.run(f))\n",
    "\n"
   ]
  },
  {
   "cell_type": "code",
   "execution_count": 22,
   "metadata": {},
   "outputs": [
    {
     "name": "stdout",
     "output_type": "stream",
     "text": [
      "12.92\n"
     ]
    }
   ],
   "source": [
    "with tf.name_scope(\"covariance\"):\n",
    "    g=tf.subtract(b,y)\n",
    "    sess=tf.Session()\n",
    "    g=tf.multiply(d,g)\n",
    "    h=tf.reduce_sum(g)\n",
    "print(sess.run(h))"
   ]
  },
  {
   "cell_type": "code",
   "execution_count": 23,
   "metadata": {},
   "outputs": [
    {
     "name": "stdout",
     "output_type": "stream",
     "text": [
      "4.03145\n"
     ]
    }
   ],
   "source": [
    "with tf.name_scope(\"value_of_c\"):\n",
    "    j=tf.divide(h,f)\n",
    "print(sess.run(j))"
   ]
  },
  {
   "cell_type": "code",
   "execution_count": 27,
   "metadata": {},
   "outputs": [
    {
     "name": "stdout",
     "output_type": "stream",
     "text": [
      "-94.8497\n"
     ]
    }
   ],
   "source": [
    "with tf.name_scope(\"value_m\"):\n",
    "    i=tf.multiply(j,x)\n",
    "    k=tf.subtract(y,i)\n",
    "    print(sess.run(k))"
   ]
  },
  {
   "cell_type": "code",
   "execution_count": 32,
   "metadata": {},
   "outputs": [],
   "source": [
    "with tf.Session() as sess:\n",
    "    w=tf.summary.FileWriter('/tmp/tboard/linear',ses.graph)\n",
    "    w.close()"
   ]
  },
  {
   "cell_type": "code",
   "execution_count": null,
   "metadata": {
    "collapsed": true
   },
   "outputs": [],
   "source": []
  }
 ],
 "metadata": {
  "kernelspec": {
   "display_name": "Python 3",
   "language": "python",
   "name": "python3"
  },
  "language_info": {
   "codemirror_mode": {
    "name": "ipython",
    "version": 3
   },
   "file_extension": ".py",
   "mimetype": "text/x-python",
   "name": "python",
   "nbconvert_exporter": "python",
   "pygments_lexer": "ipython3",
   "version": "3.6.1"
  }
 },
 "nbformat": 4,
 "nbformat_minor": 2
}
