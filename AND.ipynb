{
 "cells": [
  {
   "cell_type": "code",
   "execution_count": 233,
   "metadata": {
    "collapsed": true
   },
   "outputs": [],
   "source": [
    "import tensorflow as tf\n",
    "x_ = tf.placeholder(tf.float32, shape=[4,2], name=\"x-input\")\n",
    "y_ = tf.placeholder(tf.float32, shape=[4,1], name=\"y-input\")"
   ]
  },
  {
   "cell_type": "code",
   "execution_count": 234,
   "metadata": {
    "collapsed": true
   },
   "outputs": [],
   "source": [
    "Theta1 = tf.Variable(tf.random_uniform([2,1], 0, 1), name=\"Theta1\")\n"
   ]
  },
  {
   "cell_type": "code",
   "execution_count": 235,
   "metadata": {
    "collapsed": true
   },
   "outputs": [],
   "source": [
    "Bias1 = tf.Variable(tf.zeros([2]), name=\"Bias1\")"
   ]
  },
  {
   "cell_type": "code",
   "execution_count": 236,
   "metadata": {},
   "outputs": [],
   "source": [
    "Hypothesis = tf.sigmoid(tf.matmul(x_, Theta1) + Bias1)"
   ]
  },
  {
   "cell_type": "code",
   "execution_count": 237,
   "metadata": {
    "collapsed": true
   },
   "outputs": [],
   "source": [
    "cost = tf.reduce_mean(( (y_ * tf.log(Hypothesis)) + \n",
    "        ((1 - y_) * tf.log(1.0 - Hypothesis)) ) * -1)"
   ]
  },
  {
   "cell_type": "code",
   "execution_count": 238,
   "metadata": {
    "collapsed": true
   },
   "outputs": [],
   "source": [
    "train_step = tf.train.GradientDescentOptimizer(0.01).minimize(cost)"
   ]
  },
  {
   "cell_type": "code",
   "execution_count": 239,
   "metadata": {},
   "outputs": [],
   "source": [
    "AND_X = [[0,0],[0,1],[1,0],[1,1]]\n",
    "AND_Y = [[0],[0],[0],[1]]\n",
    "\n",
    "init = tf.global_variables_initializer()\n",
    "sess = tf.Session()\n",
    "sess.run(init)"
   ]
  },
  {
   "cell_type": "code",
   "execution_count": 240,
   "metadata": {},
   "outputs": [
    {
     "name": "stdout",
     "output_type": "stream",
     "text": [
      "Epoch  0\n",
      "Theta1  [[ 0.09391043]\n",
      " [ 0.0121439 ]]\n",
      "Bias1  [-0.00131636 -0.00131636]\n",
      "Hypothesis  [[ 0.49967089  0.49967089]\n",
      " [ 0.50270689  0.50270689]\n",
      " [ 0.52313203  0.52313203]\n",
      " [ 0.5261606   0.5261606 ]]\n",
      "--------------------------------------------------------------------------\n",
      "Epoch  1000\n",
      "Theta1  [[ 0.36925775]\n",
      " [ 0.32465532]]\n",
      "Bias1  [-0.86006671 -0.86006671]\n",
      "Hypothesis  [[ 0.2973254   0.2973254 ]\n",
      " [ 0.36925566  0.36925566]\n",
      " [ 0.37970302  0.37970302]\n",
      " [ 0.45855692  0.45855692]]\n",
      "--------------------------------------------------------------------------\n",
      "Epoch  2000\n",
      "Theta1  [[ 0.75286549]\n",
      " [ 0.72769862]]\n",
      "Bias1  [-1.41000593 -1.41000593]\n",
      "Hypothesis  [[ 0.19623312  0.19623312]\n",
      " [ 0.33574653  0.33574653]\n",
      " [ 0.34138229  0.34138229]\n",
      " [ 0.51763225  0.51763225]]\n",
      "--------------------------------------------------------------------------\n",
      "Epoch  3000\n",
      "Theta1  [[ 1.07435894]\n",
      " [ 1.05981803]]\n",
      "Bias1  [-1.8569504 -1.8569504]\n",
      "Hypothesis  [[ 0.13505891  0.13505891]\n",
      " [ 0.31063926  0.31063926]\n",
      " [ 0.31376162  0.31376162]\n",
      " [ 0.56886613  0.56886613]]\n",
      "--------------------------------------------------------------------------\n",
      "Epoch  4000\n",
      "Theta1  [[ 1.34542859]\n",
      " [ 1.33683264]]\n",
      "Bias1  [-2.23860478 -2.23860478]\n",
      "Hypothesis  [[ 0.09633694  0.09633694]\n",
      " [ 0.28868645  0.28868645]\n",
      " [ 0.2904548   0.2904548 ]\n",
      " [ 0.60912997  0.60912997]]\n",
      "--------------------------------------------------------------------------\n",
      "Epoch  5000\n",
      "Theta1  [[ 1.58029389]\n",
      " [ 1.57509804]]\n",
      "Bias1  [-2.57316017 -2.57316017]\n",
      "Hypothesis  [[ 0.07088589  0.07088589]\n",
      " [ 0.2693226   0.2693226 ]\n",
      " [ 0.27034631  0.27034631]\n",
      " [ 0.64158076  0.64158076]]\n",
      "--------------------------------------------------------------------------\n",
      "Epoch  6000\n",
      "Theta1  [[ 1.78829062]\n",
      " [ 1.78508306]]\n",
      "Bias1  [-2.87202978 -2.87202978]\n",
      "Hypothesis  [[ 0.05355368  0.05355368]\n",
      " [ 0.25219366  0.25219366]\n",
      " [ 0.25279906  0.25279906]\n",
      " [ 0.6684857   0.6684857 ]]\n",
      "--------------------------------------------------------------------------\n",
      "Epoch  7000\n",
      "Theta1  [[ 1.97554886]\n",
      " [ 1.97352755]]\n",
      "Bias1  [-3.14286566 -3.14286566]\n",
      "Hypothesis  [[ 0.04137331  0.04137331]\n",
      " [ 0.23697463  0.23697463]\n",
      " [ 0.23734033  0.23734033]\n",
      " [ 0.69130147  0.69130147]]\n",
      "--------------------------------------------------------------------------\n",
      "Epoch  8000\n",
      "Theta1  [[ 2.14626026]\n",
      " [ 2.14496279]]\n",
      "Bias1  [-3.39102387 -3.39102387]\n",
      "Hypothesis  [[ 0.03257717  0.03257717]\n",
      " [ 0.22338274  0.22338274]\n",
      " [ 0.22360791  0.22360791]\n",
      " [ 0.71099043  0.71099043]]\n",
      "--------------------------------------------------------------------------\n",
      "Epoch  9000\n",
      "Theta1  [[ 2.30341363]\n",
      " [ 2.30256653]]\n",
      "Bias1  [-3.62038779 -3.62038779]\n",
      "Hypothesis  [[ 0.02607423  0.02607423]\n",
      " [ 0.21118101  0.21118101]\n",
      " [ 0.21132216  0.21132216]\n",
      " [ 0.72821641  0.72821641]]\n",
      "--------------------------------------------------------------------------\n"
     ]
    }
   ],
   "source": [
    "for i in range(10000):\n",
    "        sess.run(train_step, feed_dict={x_: AND_X, y_: AND_Y})\n",
    "        \n",
    "        if i % 1000 == 0:\n",
    "            print('Epoch ', i)\n",
    "            print('Theta1 ', sess.run(Theta1))\n",
    "            print('Bias1 ', sess.run(Bias1))\n",
    "            print('Hypothesis ', sess.run(Hypothesis, feed_dict={x_: AND_X, y_: AND_Y}))\n",
    "            print('--------------------------------------------------------------------------')"
   ]
  },
  {
   "cell_type": "code",
   "execution_count": 241,
   "metadata": {},
   "outputs": [],
   "source": [
    "writer = tf.summary.FileWriter(\"/tmp/tboard/and\", sess.graph)"
   ]
  },
  {
   "cell_type": "code",
   "execution_count": null,
   "metadata": {
    "collapsed": true
   },
   "outputs": [],
   "source": []
  },
  {
   "cell_type": "code",
   "execution_count": null,
   "metadata": {
    "collapsed": true
   },
   "outputs": [],
   "source": []
  },
  {
   "cell_type": "code",
   "execution_count": null,
   "metadata": {
    "collapsed": true
   },
   "outputs": [],
   "source": []
  }
 ],
 "metadata": {
  "kernelspec": {
   "display_name": "Python 3",
   "language": "python",
   "name": "python3"
  },
  "language_info": {
   "codemirror_mode": {
    "name": "ipython",
    "version": 3
   },
   "file_extension": ".py",
   "mimetype": "text/x-python",
   "name": "python",
   "nbconvert_exporter": "python",
   "pygments_lexer": "ipython3",
   "version": "3.6.1"
  }
 },
 "nbformat": 4,
 "nbformat_minor": 2
}
