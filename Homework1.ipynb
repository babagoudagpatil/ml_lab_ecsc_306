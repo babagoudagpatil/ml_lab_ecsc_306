{
 "cells": [
  {
   "cell_type": "code",
   "execution_count": null,
   "metadata": {
    "collapsed": true
   },
   "outputs": [],
   "source": [
    "##a^3+b^3\n",
    "import tensorflow as tf\n",
    "with tf.name_scope(\"sum_cube\"):\n",
    "    a=5\n",
    "    b=2\n",
    "    with tf.name_scope(\"sum\"):\n",
    "        x=tf.add(a,b)\n",
    "        sess=tf.Session()\n",
    "        with tf.name_scope(\"scope_2\"):\n",
    "            y=tf.square(a)\n",
    "        with tf.name_scope(\"scope_3\"):\n",
    "            z=tf.multiply(a,b)\n",
    "        with tf.name_scope(\"scope_4\"):\n",
    "            f=tf.square(b)\n",
    "        with tf.name_scope(\"scope_5\"):\n",
    "            s=tf.subtract(y,z)\n",
    "        with tf.name_scope(\"scope_6\"):\n",
    "            d=tf.add(s,f)\n",
    "    with tf.name_scope(\"scope_7\"):\n",
    "        w=tf.multiply(x,d)\n",
    "        \n",
    "    print(sess.run(w))\n",
    "    with tf.Session() as sess:\n",
    "        writer = tf.summary.FileWriter(\"/tmp/tboard/linear\", sess.graph)\n",
    "        writer.close()"
   ]
  }
 ],
 "metadata": {
  "kernelspec": {
   "display_name": "Python 3",
   "language": "python",
   "name": "python3"
  },
  "language_info": {
   "codemirror_mode": {
    "name": "ipython",
    "version": 3
   },
   "file_extension": ".py",
   "mimetype": "text/x-python",
   "name": "python",
   "nbconvert_exporter": "python",
   "pygments_lexer": "ipython3",
   "version": "3.6.1"
  }
 },
 "nbformat": 4,
 "nbformat_minor": 2
}
